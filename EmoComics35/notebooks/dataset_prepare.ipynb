{
 "cells": [
  {
   "cell_type": "code",
   "execution_count": 4,
   "metadata": {},
   "outputs": [],
   "source": [
    "import os\n",
    "import pandas as pd\n",
    "from pathlib import Path"
   ]
  },
  {
   "cell_type": "markdown",
   "metadata": {},
   "source": [
    "### Paths"
   ]
  },
  {
   "cell_type": "code",
   "execution_count": 5,
   "metadata": {},
   "outputs": [],
   "source": [
    "PATH = Path.cwd()"
   ]
  },
  {
   "cell_type": "code",
   "execution_count": 6,
   "metadata": {},
   "outputs": [],
   "source": [
    "EC35_DIR = Path.cwd().parent / \"multimodal_er\" / \"EmoComics35\"\n",
    "XLS_DIR = EC35_DIR / \"raw_files\" / \"xls\"\n",
    "DATA_FILES_DIR = EC35_DIR / \"data_files\""
   ]
  },
  {
   "cell_type": "markdown",
   "metadata": {},
   "source": [
    "### Read xlsx files and build dataframe"
   ]
  },
  {
   "cell_type": "code",
   "execution_count": 7,
   "metadata": {},
   "outputs": [],
   "source": [
    "xlsx_files = [f for f in os.listdir(XLS_DIR) if f.endswith('.xlsx')]"
   ]
  },
  {
   "cell_type": "code",
   "execution_count": 8,
   "metadata": {},
   "outputs": [
    {
     "data": {
      "text/plain": [
       "35"
      ]
     },
     "execution_count": 8,
     "metadata": {},
     "output_type": "execute_result"
    }
   ],
   "source": [
    "len(xlsx_files)"
   ]
  },
  {
   "cell_type": "code",
   "execution_count": 9,
   "metadata": {},
   "outputs": [],
   "source": [
    "dfs = []\n",
    "for file in xlsx_files:\n",
    "    file_path = os.path.join(XLS_DIR, file)\n",
    "    df = pd.read_excel(file_path)\n",
    "    df[\"source_file\"] = file\n",
    "    dfs.append(df)"
   ]
  },
  {
   "cell_type": "code",
   "execution_count": 10,
   "metadata": {},
   "outputs": [],
   "source": [
    "ec35_df = pd.concat(dfs, ignore_index=True)"
   ]
  },
  {
   "cell_type": "code",
   "execution_count": 11,
   "metadata": {},
   "outputs": [],
   "source": [
    "ec35_df = ec35_df.dropna(subset=[\"Annotations\"]).reset_index(drop=True)"
   ]
  },
  {
   "cell_type": "code",
   "execution_count": null,
   "metadata": {},
   "outputs": [],
   "source": [
    "#ec35_df.to_csv(DATA_FILES_DIR / \"emocomics35_raw.csv\")"
   ]
  },
  {
   "cell_type": "markdown",
   "metadata": {},
   "source": [
    "### Post-process"
   ]
  },
  {
   "cell_type": "code",
   "execution_count": 52,
   "metadata": {},
   "outputs": [],
   "source": [
    "ec35_df = pd.read_csv(DATA_FILES_DIR / \"emocomics35_raw.csv\", index_col=0)"
   ]
  },
  {
   "cell_type": "code",
   "execution_count": 53,
   "metadata": {},
   "outputs": [
    {
     "data": {
      "text/plain": [
       "'2024-08-20 - aidaraliev12345\\nFeeling:AN3-DI0-FE0-SA0-SU0-JO0\\n\\n\\n2024-08-20 - aidaraliev12345\\nSpokenBy:ID- 42'"
      ]
     },
     "execution_count": 53,
     "metadata": {},
     "output_type": "execute_result"
    }
   ],
   "source": [
    "ec35_df.iloc[2582][\"Annotations\"]"
   ]
  },
  {
   "cell_type": "code",
   "execution_count": 54,
   "metadata": {},
   "outputs": [
    {
     "data": {
      "text/plain": [
       "'AN5-DI0-FE0-SA0-SU0-JO0'"
      ]
     },
     "execution_count": 54,
     "metadata": {},
     "output_type": "execute_result"
    }
   ],
   "source": [
    "ec35_df.iloc[0][\"Annotations\"].split(\"\\n\")[1].split(\":\")[1]"
   ]
  },
  {
   "cell_type": "code",
   "execution_count": 55,
   "metadata": {},
   "outputs": [],
   "source": [
    "#### File Nr"
   ]
  },
  {
   "cell_type": "code",
   "execution_count": 56,
   "metadata": {},
   "outputs": [],
   "source": [
    "def get_file_nr(row):\n",
    "    \n",
    "    return row[\"source_file\"].split(\"-\")[1].strip()"
   ]
  },
  {
   "cell_type": "code",
   "execution_count": 57,
   "metadata": {},
   "outputs": [],
   "source": [
    "ec35_df['file_nr'] = ec35_df.apply(lambda row: get_file_nr(row), axis=1)"
   ]
  },
  {
   "cell_type": "code",
   "execution_count": 58,
   "metadata": {},
   "outputs": [
    {
     "data": {
      "text/plain": [
       "35"
      ]
     },
     "execution_count": 58,
     "metadata": {},
     "output_type": "execute_result"
    }
   ],
   "source": [
    "len(ec35_df.file_nr.unique().tolist())"
   ]
  },
  {
   "cell_type": "code",
   "execution_count": 59,
   "metadata": {},
   "outputs": [],
   "source": [
    "#### Speaker"
   ]
  },
  {
   "cell_type": "code",
   "execution_count": 60,
   "metadata": {},
   "outputs": [],
   "source": [
    "def get_speaker_name(row):\n",
    "    \n",
    "    try:\n",
    "        return row[\"Annotations\"].split(\"\\n\")[-1].split(\":\")[1]\n",
    "    \n",
    "    except Exception as e:\n",
    "        print(f\"Error at index {row.name},{row.Annotations}: {e}\")\n",
    "        return None  # or some default value\n"
   ]
  },
  {
   "cell_type": "code",
   "execution_count": 61,
   "metadata": {},
   "outputs": [],
   "source": [
    "ec35_df[\"speaker\"] = ec35_df.apply(lambda row: get_speaker_name(row), axis=1)"
   ]
  },
  {
   "cell_type": "code",
   "execution_count": 62,
   "metadata": {},
   "outputs": [],
   "source": [
    "#### Raw Emotion --> Emotion"
   ]
  },
  {
   "cell_type": "code",
   "execution_count": 63,
   "metadata": {},
   "outputs": [],
   "source": [
    "def get_raw_emotions(row):\n",
    "    \n",
    "    try:\n",
    "        return row[\"Annotations\"].split(\"\\n\")[1].split(\":\")[1]\n",
    "    \n",
    "    except Exception as e:\n",
    "        print(f\"Error at index {row.name}\\n{row.Annotations}: {e}\\n\")\n",
    "        return None  # or some default value\n",
    "    \n",
    "    "
   ]
  },
  {
   "cell_type": "code",
   "execution_count": 64,
   "metadata": {},
   "outputs": [],
   "source": [
    "ec35_df[\"raw_emotions\"] = ec35_df.apply(lambda row: get_raw_emotions(row), axis=1)"
   ]
  },
  {
   "cell_type": "code",
   "execution_count": null,
   "metadata": {},
   "outputs": [],
   "source": [
    "nan_rows = ec35_df[ec35_df.isna().any(axis=1)]\n",
    "\n",
    "if not nan_rows.empty:\n",
    "    print(\"Rows with NaN values found:\")\n",
    "    for index, row in nan_rows.iterrows():\n",
    "        nan_columns = row.index[row.isna()].tolist()  # Get columns with NaN\n",
    "        print(f\"Index {index}: NaN in columns {nan_columns}\")\n",
    "else:\n",
    "    print(\"No NaN values found in the DataFrame.\")"
   ]
  },
  {
   "cell_type": "code",
   "execution_count": 71,
   "metadata": {},
   "outputs": [],
   "source": [
    "### NaNs only in the Spanish column"
   ]
  },
  {
   "cell_type": "code",
   "execution_count": 72,
   "metadata": {},
   "outputs": [],
   "source": [
    "#### Emotions"
   ]
  },
  {
   "cell_type": "code",
   "execution_count": 73,
   "metadata": {},
   "outputs": [],
   "source": [
    "emotion_map = {\n",
    "    \"AN\": \"Anger\",\n",
    "    \"DI\": \"Disgust\",\n",
    "    \"FE\": \"Fear\",\n",
    "    \"SA\": \"Sadness\",\n",
    "    \"SU\": \"Surprise\",\n",
    "    \"JO\": \"Joy\"\n",
    "}"
   ]
  },
  {
   "cell_type": "code",
   "execution_count": 79,
   "metadata": {},
   "outputs": [],
   "source": [
    "def get_emotion(row):\n",
    "    \n",
    "    mapped_emotions = []\n",
    "    \n",
    "    if row.raw_emotions == \"Neutral\":\n",
    "        return \"[Neutral]\"\n",
    "    \n",
    "    else:\n",
    "        for pair in row.raw_emotions.split(\"-\"):\n",
    "            code = pair[:2]  # Extract emotion code\n",
    "            value_str = pair[2:]  # Extract value as string\n",
    "\n",
    "            if code in emotion_map and value_str.isdigit():  # Ensure value is numeric\n",
    "                value = int(value_str)\n",
    "                if value > 0:\n",
    "                    mapped_emotions.append(emotion_map[code])\n",
    "    \n",
    "    return mapped_emotions"
   ]
  },
  {
   "cell_type": "code",
   "execution_count": 80,
   "metadata": {},
   "outputs": [],
   "source": [
    "ec35_df[\"emotions\"] = ec35_df.apply(lambda row: get_emotion(row), axis=1)"
   ]
  },
  {
   "cell_type": "code",
   "execution_count": 83,
   "metadata": {},
   "outputs": [
    {
     "data": {
      "text/plain": [
       "emotions\n",
       "[Joy]                               1135\n",
       "[Anger]                             1082\n",
       "[Sadness]                            754\n",
       "[Surprise]                           517\n",
       "[Fear, Surprise]                     460\n",
       "[Fear]                               441\n",
       "[Neutral]                            439\n",
       "[Fear, Sadness]                      307\n",
       "[Anger, Sadness]                     276\n",
       "[Anger, Surprise]                    242\n",
       "[Anger, Fear]                        242\n",
       "[Surprise, Joy]                      236\n",
       "[Anger, Disgust]                     153\n",
       "[Sadness, Surprise]                  150\n",
       "[Anger, Joy]                         132\n",
       "[Sadness, Joy]                       108\n",
       "[Anger, Fear, Surprise]               98\n",
       "[Anger, Fear, Sadness]                59\n",
       "[Fear, Sadness, Surprise]             46\n",
       "[Disgust, Surprise]                   31\n",
       "[Fear, Joy]                           30\n",
       "[Disgust, Sadness]                    28\n",
       "[Disgust]                             27\n",
       "[Anger, Disgust, Sadness]             24\n",
       "[Anger, Sadness, Surprise]            20\n",
       "[Anger, Disgust, Surprise]            17\n",
       "[Anger, Disgust, Fear]                14\n",
       "[Disgust, Joy]                        10\n",
       "[Fear, Surprise, Joy]                  9\n",
       "[Anger, Disgust, Joy]                  6\n",
       "[Disgust, Fear]                        5\n",
       "[Anger, Surprise, Joy]                 5\n",
       "[Fear, Sadness, Joy]                   4\n",
       "[Disgust, Fear, Sadness]               3\n",
       "[]                                     3\n",
       "[Anger, Fear, Joy]                     3\n",
       "[Disgust, Sadness, Joy]                3\n",
       "[Anger, Disgust, Fear, Sadness]        2\n",
       "[Sadness, Surprise, Joy]               2\n",
       "[Anger, Fear, Sadness, Surprise]       2\n",
       "[Anger, Fear, Sadness, Joy]            1\n",
       "[Anger, Sadness, Joy]                  1\n",
       "[Disgust, Surprise, Joy]               1\n",
       "[Disgust, Fear, Surprise]              1\n",
       "[Anger, Sadness, Surprise, Joy]        1\n",
       "[Disgust, Sadness, Surprise]           1\n",
       "[Anger, Disgust, Fear, Surprise]       1\n",
       "Name: count, dtype: int64"
      ]
     },
     "execution_count": 83,
     "metadata": {},
     "output_type": "execute_result"
    }
   ],
   "source": [
    "ec35_df.emotions.value_counts()"
   ]
  },
  {
   "cell_type": "code",
   "execution_count": 90,
   "metadata": {},
   "outputs": [],
   "source": [
    "ec35_df = ec35_df[ec35_df[\"emotions\"].apply(lambda x: not (isinstance(x, list) and len(x) == 0))].reset_index(drop=True)"
   ]
  },
  {
   "cell_type": "code",
   "execution_count": null,
   "metadata": {},
   "outputs": [],
   "source": [
    "# 3 samples have no annotation, back to 7129 samples."
   ]
  },
  {
   "cell_type": "code",
   "execution_count": 92,
   "metadata": {},
   "outputs": [
    {
     "data": {
      "text/plain": [
       "emotions\n",
       "[Joy]                               1135\n",
       "[Anger]                             1082\n",
       "[Sadness]                            754\n",
       "[Surprise]                           517\n",
       "[Fear, Surprise]                     460\n",
       "[Fear]                               441\n",
       "[Neutral]                            439\n",
       "[Fear, Sadness]                      307\n",
       "[Anger, Sadness]                     276\n",
       "[Anger, Surprise]                    242\n",
       "[Anger, Fear]                        242\n",
       "[Surprise, Joy]                      236\n",
       "[Anger, Disgust]                     153\n",
       "[Sadness, Surprise]                  150\n",
       "[Anger, Joy]                         132\n",
       "[Sadness, Joy]                       108\n",
       "[Anger, Fear, Surprise]               98\n",
       "[Anger, Fear, Sadness]                59\n",
       "[Fear, Sadness, Surprise]             46\n",
       "[Disgust, Surprise]                   31\n",
       "[Fear, Joy]                           30\n",
       "[Disgust, Sadness]                    28\n",
       "[Disgust]                             27\n",
       "[Anger, Disgust, Sadness]             24\n",
       "[Anger, Sadness, Surprise]            20\n",
       "[Anger, Disgust, Surprise]            17\n",
       "[Anger, Disgust, Fear]                14\n",
       "[Disgust, Joy]                        10\n",
       "[Fear, Surprise, Joy]                  9\n",
       "[Anger, Disgust, Joy]                  6\n",
       "[Anger, Surprise, Joy]                 5\n",
       "[Disgust, Fear]                        5\n",
       "[Fear, Sadness, Joy]                   4\n",
       "[Disgust, Fear, Sadness]               3\n",
       "[Anger, Fear, Joy]                     3\n",
       "[Disgust, Sadness, Joy]                3\n",
       "[Anger, Disgust, Fear, Sadness]        2\n",
       "[Sadness, Surprise, Joy]               2\n",
       "[Anger, Fear, Sadness, Surprise]       2\n",
       "[Anger, Fear, Sadness, Joy]            1\n",
       "[Anger, Sadness, Joy]                  1\n",
       "[Disgust, Surprise, Joy]               1\n",
       "[Disgust, Fear, Surprise]              1\n",
       "[Anger, Sadness, Surprise, Joy]        1\n",
       "[Disgust, Sadness, Surprise]           1\n",
       "[Anger, Disgust, Fear, Surprise]       1\n",
       "Name: count, dtype: int64"
      ]
     },
     "execution_count": 92,
     "metadata": {},
     "output_type": "execute_result"
    }
   ],
   "source": [
    "ec35_df.emotions.value_counts()"
   ]
  },
  {
   "cell_type": "code",
   "execution_count": 93,
   "metadata": {},
   "outputs": [],
   "source": [
    "#### Split"
   ]
  },
  {
   "cell_type": "code",
   "execution_count": null,
   "metadata": {},
   "outputs": [],
   "source": [
    "train_files = [\n",
    "    \n",
    "]"
   ]
  },
  {
   "cell_type": "code",
   "execution_count": 95,
   "metadata": {},
   "outputs": [],
   "source": [
    "ec35_df['split'] = ec35_df['source_file'].apply(lambda x: 'TRAIN' if x in train_files else 'TEST')"
   ]
  },
  {
   "cell_type": "code",
   "execution_count": 97,
   "metadata": {},
   "outputs": [
    {
     "data": {
      "text/plain": [
       "split\n",
       "TRAIN    5803\n",
       "TEST     1326\n",
       "Name: count, dtype: int64"
      ]
     },
     "execution_count": 97,
     "metadata": {},
     "output_type": "execute_result"
    }
   ],
   "source": [
    "ec35_df.split.value_counts()"
   ]
  },
  {
   "cell_type": "code",
   "execution_count": 98,
   "metadata": {},
   "outputs": [],
   "source": [
    "### Title"
   ]
  },
  {
   "cell_type": "code",
   "execution_count": null,
   "metadata": {},
   "outputs": [],
   "source": [
    "titles = []"
   ]
  },
  {
   "cell_type": "code",
   "execution_count": 117,
   "metadata": {},
   "outputs": [
    {
     "data": {
      "text/plain": [
       "35"
      ]
     },
     "execution_count": 117,
     "metadata": {},
     "output_type": "execute_result"
    }
   ],
   "source": [
    "len(titles)"
   ]
  },
  {
   "cell_type": "code",
   "execution_count": 118,
   "metadata": {},
   "outputs": [
    {
     "data": {
      "text/plain": [
       "35"
      ]
     },
     "execution_count": 118,
     "metadata": {},
     "output_type": "execute_result"
    }
   ],
   "source": [
    "len(ec35_df.source_file.unique().tolist())"
   ]
  },
  {
   "cell_type": "code",
   "execution_count": 112,
   "metadata": {},
   "outputs": [],
   "source": [
    "mapping = dict(zip(ec35_df.source_file.unique().tolist(), titles))"
   ]
  },
  {
   "cell_type": "code",
   "execution_count": 113,
   "metadata": {},
   "outputs": [],
   "source": [
    "ec35_df['comicbook_title'] = ec35_df['source_file'].map(mapping)"
   ]
  },
  {
   "cell_type": "code",
   "execution_count": 126,
   "metadata": {},
   "outputs": [
    {
     "data": {
      "text/plain": [
       "(7129, 19)"
      ]
     },
     "execution_count": 126,
     "metadata": {},
     "output_type": "execute_result"
    }
   ],
   "source": [
    "ec35_df.shape"
   ]
  },
  {
   "cell_type": "code",
   "execution_count": 127,
   "metadata": {},
   "outputs": [],
   "source": [
    "ec35_df.to_csv(DATA_FILES_DIR / \"emocomics35.csv\")"
   ]
  },
  {
   "cell_type": "code",
   "execution_count": null,
   "metadata": {},
   "outputs": [],
   "source": []
  }
 ],
 "metadata": {
  "kernelspec": {
   "display_name": "Python (multimodalER)",
   "language": "python",
   "name": "multimodalerk"
  },
  "language_info": {
   "codemirror_mode": {
    "name": "ipython",
    "version": 3
   },
   "file_extension": ".py",
   "mimetype": "text/x-python",
   "name": "python",
   "nbconvert_exporter": "python",
   "pygments_lexer": "ipython3",
   "version": "3.11.11"
  }
 },
 "nbformat": 4,
 "nbformat_minor": 2
}
