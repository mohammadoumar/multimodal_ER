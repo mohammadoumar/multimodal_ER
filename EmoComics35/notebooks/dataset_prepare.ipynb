{
 "cells": [
  {
   "cell_type": "code",
   "execution_count": 128,
   "metadata": {},
   "outputs": [],
   "source": [
    "import os\n",
    "import pandas as pd\n",
    "from pathlib import Path"
   ]
  },
  {
   "cell_type": "markdown",
   "metadata": {},
   "source": [
    "### Paths"
   ]
  },
  {
   "cell_type": "code",
   "execution_count": 129,
   "metadata": {},
   "outputs": [],
   "source": [
    "PATH = Path.cwd()"
   ]
  },
  {
   "cell_type": "code",
   "execution_count": 130,
   "metadata": {},
   "outputs": [],
   "source": [
    "EC35_DIR = Path.cwd().parent / \"multimodal_er\" / \"EmoComics35\"\n",
    "XLS_DIR = EC35_DIR / \"raw_files\" / \"xls\"\n",
    "DATA_FILES_DIR = EC35_DIR / \"data_files\""
   ]
  },
  {
   "cell_type": "markdown",
   "metadata": {},
   "source": [
    "### Read xlsx files and build dataframe"
   ]
  },
  {
   "cell_type": "code",
   "execution_count": 7,
   "metadata": {},
   "outputs": [],
   "source": [
    "xlsx_files = [f for f in os.listdir(XLS_DIR) if f.endswith('.xlsx')]"
   ]
  },
  {
   "cell_type": "code",
   "execution_count": 8,
   "metadata": {},
   "outputs": [
    {
     "data": {
      "text/plain": [
       "35"
      ]
     },
     "execution_count": 8,
     "metadata": {},
     "output_type": "execute_result"
    }
   ],
   "source": [
    "len(xlsx_files)"
   ]
  },
  {
   "cell_type": "code",
   "execution_count": 9,
   "metadata": {},
   "outputs": [],
   "source": [
    "dfs = []\n",
    "for file in xlsx_files:\n",
    "    file_path = os.path.join(XLS_DIR, file)\n",
    "    df = pd.read_excel(file_path)\n",
    "    df[\"source_file\"] = file\n",
    "    dfs.append(df)"
   ]
  },
  {
   "cell_type": "code",
   "execution_count": 10,
   "metadata": {},
   "outputs": [],
   "source": [
    "ec35_df = pd.concat(dfs, ignore_index=True)"
   ]
  },
  {
   "cell_type": "code",
   "execution_count": 11,
   "metadata": {},
   "outputs": [],
   "source": [
    "ec35_df = ec35_df.dropna(subset=[\"Annotations\"]).reset_index(drop=True)"
   ]
  },
  {
   "cell_type": "code",
   "execution_count": null,
   "metadata": {},
   "outputs": [],
   "source": [
    "#ec35_df.to_csv(DATA_FILES_DIR / \"emocomics35_raw.csv\")"
   ]
  },
  {
   "cell_type": "markdown",
   "metadata": {},
   "source": [
    "### Post-process"
   ]
  },
  {
   "cell_type": "code",
   "execution_count": 131,
   "metadata": {},
   "outputs": [],
   "source": [
    "ec35_df = pd.read_csv(DATA_FILES_DIR / \"emocomics35_raw.csv\", index_col=0)"
   ]
  },
  {
   "cell_type": "code",
   "execution_count": 132,
   "metadata": {},
   "outputs": [
    {
     "data": {
      "text/plain": [
       "'2024-08-20 - aidaraliev12345\\nFeeling:AN3-DI0-FE0-SA0-SU0-JO0\\n\\n\\n2024-08-20 - aidaraliev12345\\nSpokenBy:ID- 42'"
      ]
     },
     "execution_count": 132,
     "metadata": {},
     "output_type": "execute_result"
    }
   ],
   "source": [
    "ec35_df.iloc[2582][\"Annotations\"]"
   ]
  },
  {
   "cell_type": "code",
   "execution_count": 133,
   "metadata": {},
   "outputs": [
    {
     "data": {
      "text/plain": [
       "'AN5-DI0-FE0-SA0-SU0-JO0'"
      ]
     },
     "execution_count": 133,
     "metadata": {},
     "output_type": "execute_result"
    }
   ],
   "source": [
    "ec35_df.iloc[0][\"Annotations\"].split(\"\\n\")[1].split(\":\")[1]"
   ]
  },
  {
   "cell_type": "code",
   "execution_count": 134,
   "metadata": {},
   "outputs": [],
   "source": [
    "#### File Nr"
   ]
  },
  {
   "cell_type": "code",
   "execution_count": 135,
   "metadata": {},
   "outputs": [],
   "source": [
    "def get_file_nr(row):\n",
    "    \n",
    "    return row[\"source_file\"].split(\"-\")[1].strip()"
   ]
  },
  {
   "cell_type": "code",
   "execution_count": 136,
   "metadata": {},
   "outputs": [],
   "source": [
    "ec35_df['file_nr'] = ec35_df.apply(lambda row: get_file_nr(row), axis=1)"
   ]
  },
  {
   "cell_type": "code",
   "execution_count": 137,
   "metadata": {},
   "outputs": [
    {
     "data": {
      "text/plain": [
       "35"
      ]
     },
     "execution_count": 137,
     "metadata": {},
     "output_type": "execute_result"
    }
   ],
   "source": [
    "len(ec35_df.file_nr.unique().tolist())"
   ]
  },
  {
   "cell_type": "code",
   "execution_count": 138,
   "metadata": {},
   "outputs": [],
   "source": [
    "#### Speaker"
   ]
  },
  {
   "cell_type": "code",
   "execution_count": 139,
   "metadata": {},
   "outputs": [],
   "source": [
    "def get_speaker_name(row):\n",
    "    \n",
    "    try:\n",
    "        return row[\"Annotations\"].split(\"\\n\")[-1].split(\":\")[1]\n",
    "    \n",
    "    except Exception as e:\n",
    "        print(f\"Error at index {row.name},{row.Annotations}: {e}\")\n",
    "        return None  # or some default value\n"
   ]
  },
  {
   "cell_type": "code",
   "execution_count": 140,
   "metadata": {},
   "outputs": [],
   "source": [
    "ec35_df[\"speaker\"] = ec35_df.apply(lambda row: get_speaker_name(row), axis=1)"
   ]
  },
  {
   "cell_type": "code",
   "execution_count": 141,
   "metadata": {},
   "outputs": [],
   "source": [
    "#### Raw Emotion --> Emotion"
   ]
  },
  {
   "cell_type": "code",
   "execution_count": 142,
   "metadata": {},
   "outputs": [],
   "source": [
    "def get_raw_emotions(row):\n",
    "    \n",
    "    try:\n",
    "        return row[\"Annotations\"].split(\"\\n\")[1].split(\":\")[1]\n",
    "    \n",
    "    except Exception as e:\n",
    "        print(f\"Error at index {row.name}\\n{row.Annotations}: {e}\\n\")\n",
    "        return None  # or some default value\n",
    "    \n",
    "    "
   ]
  },
  {
   "cell_type": "code",
   "execution_count": 143,
   "metadata": {},
   "outputs": [],
   "source": [
    "ec35_df[\"raw_emotions\"] = ec35_df.apply(lambda row: get_raw_emotions(row), axis=1)"
   ]
  },
  {
   "cell_type": "code",
   "execution_count": 144,
   "metadata": {},
   "outputs": [
    {
     "name": "stdout",
     "output_type": "stream",
     "text": [
      "Rows with NaN values found:\n",
      "Index 5: NaN in columns ['Translated text in Spanish; Castilian']\n",
      "Index 27: NaN in columns ['Translated text in Spanish; Castilian']\n",
      "Index 33: NaN in columns ['Translated text in Spanish; Castilian']\n",
      "Index 115: NaN in columns ['Translated text in Spanish; Castilian']\n",
      "Index 117: NaN in columns ['Translated text in Spanish; Castilian']\n",
      "Index 119: NaN in columns ['Translated text in Spanish; Castilian']\n",
      "Index 120: NaN in columns ['Translated text in Spanish; Castilian']\n",
      "Index 125: NaN in columns ['Translated text in Spanish; Castilian']\n",
      "Index 280: NaN in columns ['Translated text in Spanish; Castilian']\n",
      "Index 283: NaN in columns ['Translated text in Spanish; Castilian']\n",
      "Index 292: NaN in columns ['Translated text in Spanish; Castilian']\n",
      "Index 357: NaN in columns ['Translated text in Spanish; Castilian']\n",
      "Index 398: NaN in columns ['Translated text in Spanish; Castilian']\n",
      "Index 404: NaN in columns ['Translated text in Spanish; Castilian']\n",
      "Index 421: NaN in columns ['Translated text in Spanish; Castilian']\n",
      "Index 437: NaN in columns ['Translated text in Spanish; Castilian']\n",
      "Index 752: NaN in columns ['Translated text in Spanish; Castilian']\n",
      "Index 756: NaN in columns ['Translated text in Spanish; Castilian']\n",
      "Index 783: NaN in columns ['Translated text in Spanish; Castilian']\n",
      "Index 862: NaN in columns ['Translated text in Spanish; Castilian']\n",
      "Index 875: NaN in columns ['Translated text in Spanish; Castilian']\n",
      "Index 931: NaN in columns ['Translated text in Spanish; Castilian']\n",
      "Index 958: NaN in columns ['Translated text in Spanish; Castilian']\n",
      "Index 1012: NaN in columns ['Translated text in Spanish; Castilian']\n",
      "Index 1016: NaN in columns ['Translated text in Spanish; Castilian']\n",
      "Index 1032: NaN in columns ['Translated text in Spanish; Castilian']\n",
      "Index 1069: NaN in columns ['Translated text in Spanish; Castilian']\n",
      "Index 1070: NaN in columns ['Translated text in Spanish; Castilian']\n",
      "Index 1073: NaN in columns ['Translated text in Spanish; Castilian']\n",
      "Index 1076: NaN in columns ['Translated text in Spanish; Castilian']\n",
      "Index 1082: NaN in columns ['Translated text in Spanish; Castilian']\n",
      "Index 1083: NaN in columns ['Translated text in Spanish; Castilian']\n",
      "Index 1085: NaN in columns ['Translated text in Spanish; Castilian']\n",
      "Index 1086: NaN in columns ['Translated text in Spanish; Castilian']\n",
      "Index 1088: NaN in columns ['Translated text in Spanish; Castilian']\n",
      "Index 1099: NaN in columns ['Translated text in Spanish; Castilian']\n",
      "Index 1103: NaN in columns ['Translated text in Spanish; Castilian']\n",
      "Index 1105: NaN in columns ['Translated text in Spanish; Castilian']\n",
      "Index 1106: NaN in columns ['Translated text in Spanish; Castilian']\n",
      "Index 1107: NaN in columns ['Translated text in Spanish; Castilian']\n",
      "Index 1109: NaN in columns ['Translated text in Spanish; Castilian']\n",
      "Index 1110: NaN in columns ['Translated text in Spanish; Castilian']\n",
      "Index 1114: NaN in columns ['Translated text in Spanish; Castilian']\n",
      "Index 1121: NaN in columns ['Translated text in Spanish; Castilian']\n",
      "Index 1122: NaN in columns ['Translated text in Spanish; Castilian']\n",
      "Index 1124: NaN in columns ['Translated text in Spanish; Castilian']\n",
      "Index 1128: NaN in columns ['Translated text in Spanish; Castilian']\n",
      "Index 1168: NaN in columns ['Translated text in Spanish; Castilian']\n",
      "Index 1178: NaN in columns ['Translated text in Spanish; Castilian']\n",
      "Index 1181: NaN in columns ['Translated text in Spanish; Castilian']\n",
      "Index 1182: NaN in columns ['Translated text in Spanish; Castilian']\n",
      "Index 1184: NaN in columns ['Translated text in Spanish; Castilian']\n",
      "Index 1193: NaN in columns ['Translated text in Spanish; Castilian']\n",
      "Index 1195: NaN in columns ['Translated text in Spanish; Castilian']\n",
      "Index 1198: NaN in columns ['Translated text in Spanish; Castilian']\n",
      "Index 1204: NaN in columns ['Translated text in Spanish; Castilian']\n",
      "Index 1295: NaN in columns ['Translated text in Spanish; Castilian']\n",
      "Index 1448: NaN in columns ['Translated text in Spanish; Castilian']\n",
      "Index 1530: NaN in columns ['Translated text in Spanish; Castilian']\n",
      "Index 1561: NaN in columns ['Translated text in Spanish; Castilian']\n",
      "Index 1577: NaN in columns ['Translated text in Spanish; Castilian']\n",
      "Index 1596: NaN in columns ['Translated text in Spanish; Castilian']\n",
      "Index 1610: NaN in columns ['Translated text in Spanish; Castilian']\n",
      "Index 1621: NaN in columns ['Translated text in Spanish; Castilian']\n",
      "Index 1622: NaN in columns ['Translated text in Spanish; Castilian']\n",
      "Index 1646: NaN in columns ['Translated text in Spanish; Castilian']\n",
      "Index 1678: NaN in columns ['Translated text in Spanish; Castilian']\n",
      "Index 1681: NaN in columns ['Translated text in Spanish; Castilian']\n",
      "Index 1687: NaN in columns ['Translated text in Spanish; Castilian']\n",
      "Index 1703: NaN in columns ['Translated text in Spanish; Castilian']\n",
      "Index 1709: NaN in columns ['Translated text in Spanish; Castilian']\n",
      "Index 1710: NaN in columns ['Translated text in Spanish; Castilian']\n",
      "Index 1711: NaN in columns ['Translated text in Spanish; Castilian']\n",
      "Index 1712: NaN in columns ['Translated text in Spanish; Castilian']\n",
      "Index 1715: NaN in columns ['Translated text in Spanish; Castilian']\n",
      "Index 1716: NaN in columns ['Translated text in Spanish; Castilian']\n",
      "Index 1718: NaN in columns ['Translated text in Spanish; Castilian']\n",
      "Index 1724: NaN in columns ['Translated text in Spanish; Castilian']\n",
      "Index 1743: NaN in columns ['Translated text in Spanish; Castilian']\n",
      "Index 1744: NaN in columns ['Translated text in Spanish; Castilian']\n",
      "Index 1745: NaN in columns ['Translated text in Spanish; Castilian']\n",
      "Index 1746: NaN in columns ['Translated text in Spanish; Castilian']\n",
      "Index 1752: NaN in columns ['Translated text in Spanish; Castilian']\n",
      "Index 1762: NaN in columns ['Translated text in Spanish; Castilian']\n",
      "Index 1773: NaN in columns ['Translated text in Spanish; Castilian']\n",
      "Index 1775: NaN in columns ['Translated text in Spanish; Castilian']\n",
      "Index 1813: NaN in columns ['Translated text in Spanish; Castilian']\n",
      "Index 1814: NaN in columns ['Translated text in Spanish; Castilian']\n",
      "Index 1825: NaN in columns ['Translated text in Spanish; Castilian']\n",
      "Index 1841: NaN in columns ['Translated text in Spanish; Castilian']\n",
      "Index 1851: NaN in columns ['Translated text in Spanish; Castilian']\n",
      "Index 1944: NaN in columns ['Translated text in Spanish; Castilian']\n",
      "Index 1945: NaN in columns ['Translated text in Spanish; Castilian']\n",
      "Index 1980: NaN in columns ['Translated text in Spanish; Castilian']\n",
      "Index 1981: NaN in columns ['Translated text in Spanish; Castilian']\n",
      "Index 1986: NaN in columns ['Translated text in Spanish; Castilian']\n",
      "Index 2029: NaN in columns ['Translated text in Spanish; Castilian']\n",
      "Index 2122: NaN in columns ['Translated text in Spanish; Castilian']\n",
      "Index 2137: NaN in columns ['Translated text in Spanish; Castilian']\n",
      "Index 2148: NaN in columns ['Translated text in Spanish; Castilian']\n",
      "Index 2264: NaN in columns ['Translated text in Spanish; Castilian']\n",
      "Index 2268: NaN in columns ['Translated text in Spanish; Castilian']\n",
      "Index 2269: NaN in columns ['Translated text in Spanish; Castilian']\n",
      "Index 2314: NaN in columns ['Translated text in Spanish; Castilian']\n",
      "Index 2362: NaN in columns ['Translated text in Spanish; Castilian']\n",
      "Index 2364: NaN in columns ['Translated text in Spanish; Castilian']\n",
      "Index 2375: NaN in columns ['Translated text in Spanish; Castilian']\n",
      "Index 2393: NaN in columns ['Translated text in Spanish; Castilian']\n",
      "Index 2405: NaN in columns ['Translated text in Spanish; Castilian']\n",
      "Index 2413: NaN in columns ['Translated text in Spanish; Castilian']\n",
      "Index 2461: NaN in columns ['Translated text in Spanish; Castilian']\n",
      "Index 2462: NaN in columns ['Translated text in Spanish; Castilian']\n",
      "Index 2479: NaN in columns ['Translated text in Spanish; Castilian']\n",
      "Index 2528: NaN in columns ['Translated text in Spanish; Castilian']\n",
      "Index 2563: NaN in columns ['Translated text in Spanish; Castilian']\n",
      "Index 2577: NaN in columns ['Translated text in Spanish; Castilian']\n",
      "Index 2590: NaN in columns ['Translated text in Spanish; Castilian']\n",
      "Index 2603: NaN in columns ['Translated text in Spanish; Castilian']\n",
      "Index 2604: NaN in columns ['Translated text in Spanish; Castilian']\n",
      "Index 2613: NaN in columns ['Translated text in Spanish; Castilian']\n",
      "Index 2614: NaN in columns ['Translated text in Spanish; Castilian']\n",
      "Index 2767: NaN in columns ['Translated text in Spanish; Castilian']\n",
      "Index 2857: NaN in columns ['Translated text in Spanish; Castilian']\n",
      "Index 2898: NaN in columns ['Translated text in Spanish; Castilian']\n",
      "Index 2899: NaN in columns ['Translated text in Spanish; Castilian']\n",
      "Index 2938: NaN in columns ['Translated text in Spanish; Castilian']\n",
      "Index 2939: NaN in columns ['Translated text in Spanish; Castilian']\n",
      "Index 2946: NaN in columns ['Translated text in Spanish; Castilian']\n",
      "Index 2947: NaN in columns ['Translated text in Spanish; Castilian']\n",
      "Index 2949: NaN in columns ['Translated text in Spanish; Castilian']\n",
      "Index 2953: NaN in columns ['Translated text in Spanish; Castilian']\n",
      "Index 2957: NaN in columns ['Translated text in Spanish; Castilian']\n",
      "Index 2963: NaN in columns ['Translated text in Spanish; Castilian']\n",
      "Index 2968: NaN in columns ['Translated text in Spanish; Castilian']\n",
      "Index 3041: NaN in columns ['Translated text in Spanish; Castilian']\n",
      "Index 3042: NaN in columns ['Translated text in Spanish; Castilian']\n",
      "Index 3049: NaN in columns ['Translated text in Spanish; Castilian']\n",
      "Index 3052: NaN in columns ['Translated text in Spanish; Castilian']\n",
      "Index 3054: NaN in columns ['Translated text in Spanish; Castilian']\n",
      "Index 3055: NaN in columns ['Translated text in Spanish; Castilian']\n",
      "Index 3056: NaN in columns ['Translated text in Spanish; Castilian']\n",
      "Index 3126: NaN in columns ['Translated text in Spanish; Castilian']\n",
      "Index 3250: NaN in columns ['Translated text in Spanish; Castilian']\n",
      "Index 3270: NaN in columns ['Translated text in Spanish; Castilian']\n",
      "Index 3378: NaN in columns ['Translated text in Spanish; Castilian']\n",
      "Index 3391: NaN in columns ['Translated text in Spanish; Castilian']\n",
      "Index 3395: NaN in columns ['Translated text in Spanish; Castilian']\n",
      "Index 3438: NaN in columns ['Translated text in Spanish; Castilian']\n",
      "Index 3440: NaN in columns ['Translated text in Spanish; Castilian']\n",
      "Index 3472: NaN in columns ['Translated text in Spanish; Castilian']\n",
      "Index 3512: NaN in columns ['Translated text in Spanish; Castilian']\n",
      "Index 3523: NaN in columns ['Translated text in Spanish; Castilian']\n",
      "Index 3598: NaN in columns ['Translated text in Spanish; Castilian']\n",
      "Index 3600: NaN in columns ['Translated text in Spanish; Castilian']\n",
      "Index 3603: NaN in columns ['Translated text in Spanish; Castilian']\n",
      "Index 3647: NaN in columns ['Translated text in Spanish; Castilian']\n",
      "Index 3652: NaN in columns ['Translated text in Spanish; Castilian']\n",
      "Index 3658: NaN in columns ['Translated text in Spanish; Castilian']\n",
      "Index 3659: NaN in columns ['Translated text in Spanish; Castilian']\n",
      "Index 3677: NaN in columns ['Translated text in Spanish; Castilian']\n",
      "Index 3680: NaN in columns ['Translated text in Spanish; Castilian']\n",
      "Index 3682: NaN in columns ['Translated text in Spanish; Castilian']\n",
      "Index 3685: NaN in columns ['Translated text in Spanish; Castilian']\n",
      "Index 3687: NaN in columns ['Translated text in Spanish; Castilian']\n",
      "Index 3689: NaN in columns ['Translated text in Spanish; Castilian']\n",
      "Index 3694: NaN in columns ['Translated text in Spanish; Castilian']\n",
      "Index 3705: NaN in columns ['Translated text in Spanish; Castilian']\n",
      "Index 3706: NaN in columns ['Translated text in Spanish; Castilian']\n",
      "Index 3724: NaN in columns ['Translated text in Spanish; Castilian']\n",
      "Index 3725: NaN in columns ['Translated text in Spanish; Castilian']\n",
      "Index 3726: NaN in columns ['Translated text in Spanish; Castilian']\n",
      "Index 3727: NaN in columns ['Translated text in Spanish; Castilian']\n",
      "Index 3738: NaN in columns ['Translated text in Spanish; Castilian']\n",
      "Index 3739: NaN in columns ['Translated text in Spanish; Castilian']\n",
      "Index 3743: NaN in columns ['Translated text in Spanish; Castilian']\n",
      "Index 3745: NaN in columns ['Translated text in Spanish; Castilian']\n",
      "Index 3746: NaN in columns ['Translated text in Spanish; Castilian']\n",
      "Index 3757: NaN in columns ['Translated text in Spanish; Castilian']\n",
      "Index 3762: NaN in columns ['Translated text in Spanish; Castilian']\n",
      "Index 3763: NaN in columns ['Translated text in Spanish; Castilian']\n",
      "Index 3765: NaN in columns ['Translated text in Spanish; Castilian']\n",
      "Index 3773: NaN in columns ['Translated text in Spanish; Castilian']\n",
      "Index 3777: NaN in columns ['Translated text in Spanish; Castilian']\n",
      "Index 3789: NaN in columns ['Translated text in Spanish; Castilian']\n",
      "Index 3796: NaN in columns ['Translated text in Spanish; Castilian']\n",
      "Index 3799: NaN in columns ['Translated text in Spanish; Castilian']\n",
      "Index 3800: NaN in columns ['Translated text in Spanish; Castilian']\n",
      "Index 3803: NaN in columns ['Translated text in Spanish; Castilian']\n",
      "Index 3808: NaN in columns ['Translated text in Spanish; Castilian']\n",
      "Index 3810: NaN in columns ['Translated text in Spanish; Castilian']\n",
      "Index 3811: NaN in columns ['Translated text in Spanish; Castilian']\n",
      "Index 3815: NaN in columns ['Translated text in Spanish; Castilian']\n",
      "Index 3817: NaN in columns ['Translated text in Spanish; Castilian']\n",
      "Index 3821: NaN in columns ['Translated text in Spanish; Castilian']\n",
      "Index 3826: NaN in columns ['Translated text in Spanish; Castilian']\n",
      "Index 3830: NaN in columns ['Translated text in Spanish; Castilian']\n",
      "Index 3831: NaN in columns ['Translated text in Spanish; Castilian']\n",
      "Index 3838: NaN in columns ['Translated text in Spanish; Castilian']\n",
      "Index 3839: NaN in columns ['Translated text in Spanish; Castilian']\n",
      "Index 3841: NaN in columns ['Translated text in Spanish; Castilian']\n",
      "Index 3842: NaN in columns ['Translated text in Spanish; Castilian']\n",
      "Index 3843: NaN in columns ['Translated text in Spanish; Castilian']\n",
      "Index 3844: NaN in columns ['Translated text in Spanish; Castilian']\n",
      "Index 3849: NaN in columns ['Translated text in Spanish; Castilian']\n",
      "Index 3851: NaN in columns ['Translated text in Spanish; Castilian']\n",
      "Index 3852: NaN in columns ['Translated text in Spanish; Castilian']\n",
      "Index 3854: NaN in columns ['Translated text in Spanish; Castilian']\n",
      "Index 3855: NaN in columns ['Translated text in Spanish; Castilian']\n",
      "Index 3866: NaN in columns ['Translated text in Spanish; Castilian']\n",
      "Index 3873: NaN in columns ['Translated text in Spanish; Castilian']\n",
      "Index 3876: NaN in columns ['Translated text in Spanish; Castilian']\n",
      "Index 3877: NaN in columns ['Translated text in Spanish; Castilian']\n",
      "Index 3879: NaN in columns ['Translated text in Spanish; Castilian']\n",
      "Index 3892: NaN in columns ['Translated text in Spanish; Castilian']\n",
      "Index 3895: NaN in columns ['Translated text in Spanish; Castilian']\n",
      "Index 3896: NaN in columns ['Translated text in Spanish; Castilian']\n",
      "Index 3902: NaN in columns ['Translated text in Spanish; Castilian']\n",
      "Index 3903: NaN in columns ['Translated text in Spanish; Castilian']\n",
      "Index 3905: NaN in columns ['Translated text in Spanish; Castilian']\n",
      "Index 3906: NaN in columns ['Translated text in Spanish; Castilian']\n",
      "Index 3908: NaN in columns ['Translated text in Spanish; Castilian']\n",
      "Index 3912: NaN in columns ['Translated text in Spanish; Castilian']\n",
      "Index 3913: NaN in columns ['Translated text in Spanish; Castilian']\n",
      "Index 3916: NaN in columns ['Translated text in Spanish; Castilian']\n",
      "Index 3917: NaN in columns ['Translated text in Spanish; Castilian']\n",
      "Index 3918: NaN in columns ['Translated text in Spanish; Castilian']\n",
      "Index 3924: NaN in columns ['Translated text in Spanish; Castilian']\n",
      "Index 3927: NaN in columns ['Translated text in Spanish; Castilian']\n",
      "Index 3931: NaN in columns ['Translated text in Spanish; Castilian']\n",
      "Index 3935: NaN in columns ['Translated text in Spanish; Castilian']\n",
      "Index 3936: NaN in columns ['Translated text in Spanish; Castilian']\n",
      "Index 3940: NaN in columns ['Translated text in Spanish; Castilian']\n",
      "Index 3955: NaN in columns ['Translated text in Spanish; Castilian']\n",
      "Index 3960: NaN in columns ['Translated text in Spanish; Castilian']\n",
      "Index 3964: NaN in columns ['Translated text in Spanish; Castilian']\n",
      "Index 3973: NaN in columns ['Translated text in Spanish; Castilian']\n",
      "Index 3974: NaN in columns ['Translated text in Spanish; Castilian']\n",
      "Index 3976: NaN in columns ['Translated text in Spanish; Castilian']\n",
      "Index 3992: NaN in columns ['Translated text in Spanish; Castilian']\n",
      "Index 3993: NaN in columns ['Translated text in Spanish; Castilian']\n",
      "Index 3995: NaN in columns ['Translated text in Spanish; Castilian']\n",
      "Index 3996: NaN in columns ['Translated text in Spanish; Castilian']\n",
      "Index 3998: NaN in columns ['Translated text in Spanish; Castilian']\n",
      "Index 4005: NaN in columns ['Translated text in Spanish; Castilian']\n",
      "Index 4007: NaN in columns ['Translated text in Spanish; Castilian']\n",
      "Index 4008: NaN in columns ['Translated text in Spanish; Castilian']\n",
      "Index 4013: NaN in columns ['Translated text in Spanish; Castilian']\n",
      "Index 4015: NaN in columns ['Translated text in Spanish; Castilian']\n",
      "Index 4016: NaN in columns ['Translated text in Spanish; Castilian']\n",
      "Index 4042: NaN in columns ['Translated text in Spanish; Castilian']\n",
      "Index 4045: NaN in columns ['Translated text in Spanish; Castilian']\n",
      "Index 4048: NaN in columns ['Translated text in Spanish; Castilian']\n",
      "Index 4054: NaN in columns ['Translated text in Spanish; Castilian']\n",
      "Index 4055: NaN in columns ['Translated text in Spanish; Castilian']\n",
      "Index 4068: NaN in columns ['Translated text in Spanish; Castilian']\n",
      "Index 4077: NaN in columns ['Translated text in Spanish; Castilian']\n",
      "Index 4079: NaN in columns ['Translated text in Spanish; Castilian']\n",
      "Index 4081: NaN in columns ['Translated text in Spanish; Castilian']\n",
      "Index 4084: NaN in columns ['Translated text in Spanish; Castilian']\n",
      "Index 4092: NaN in columns ['Translated text in Spanish; Castilian']\n",
      "Index 4094: NaN in columns ['Translated text in Spanish; Castilian']\n",
      "Index 4095: NaN in columns ['Translated text in Spanish; Castilian']\n",
      "Index 4102: NaN in columns ['Translated text in Spanish; Castilian']\n",
      "Index 4103: NaN in columns ['Translated text in Spanish; Castilian']\n",
      "Index 4105: NaN in columns ['Translated text in Spanish; Castilian']\n",
      "Index 4108: NaN in columns ['Translated text in Spanish; Castilian']\n",
      "Index 4111: NaN in columns ['Translated text in Spanish; Castilian']\n",
      "Index 4116: NaN in columns ['Translated text in Spanish; Castilian']\n",
      "Index 4118: NaN in columns ['Translated text in Spanish; Castilian']\n",
      "Index 4124: NaN in columns ['Translated text in Spanish; Castilian']\n",
      "Index 4126: NaN in columns ['Translated text in Spanish; Castilian']\n",
      "Index 4131: NaN in columns ['Translated text in Spanish; Castilian']\n",
      "Index 4132: NaN in columns ['Translated text in Spanish; Castilian']\n",
      "Index 4143: NaN in columns ['Translated text in Spanish; Castilian']\n",
      "Index 4153: NaN in columns ['Translated text in Spanish; Castilian']\n",
      "Index 4157: NaN in columns ['Translated text in Spanish; Castilian']\n",
      "Index 4162: NaN in columns ['Translated text in Spanish; Castilian']\n",
      "Index 4166: NaN in columns ['Translated text in Spanish; Castilian']\n",
      "Index 4175: NaN in columns ['Translated text in Spanish; Castilian']\n",
      "Index 4176: NaN in columns ['Translated text in Spanish; Castilian']\n",
      "Index 4182: NaN in columns ['Translated text in Spanish; Castilian']\n",
      "Index 4183: NaN in columns ['Translated text in Spanish; Castilian']\n",
      "Index 4184: NaN in columns ['Translated text in Spanish; Castilian']\n",
      "Index 4189: NaN in columns ['Translated text in Spanish; Castilian']\n",
      "Index 4199: NaN in columns ['Translated text in Spanish; Castilian']\n",
      "Index 4200: NaN in columns ['Translated text in Spanish; Castilian']\n",
      "Index 4207: NaN in columns ['Translated text in Spanish; Castilian']\n",
      "Index 4236: NaN in columns ['Translated text in Spanish; Castilian']\n",
      "Index 4250: NaN in columns ['Translated text in Spanish; Castilian']\n",
      "Index 4254: NaN in columns ['Translated text in Spanish; Castilian']\n",
      "Index 4255: NaN in columns ['Translated text in Spanish; Castilian']\n",
      "Index 4256: NaN in columns ['Translated text in Spanish; Castilian']\n",
      "Index 4270: NaN in columns ['Translated text in Spanish; Castilian']\n",
      "Index 4273: NaN in columns ['Translated text in Spanish; Castilian']\n",
      "Index 4275: NaN in columns ['Translated text in Spanish; Castilian']\n",
      "Index 4296: NaN in columns ['Translated text in Spanish; Castilian']\n",
      "Index 4297: NaN in columns ['Translated text in Spanish; Castilian']\n",
      "Index 4308: NaN in columns ['Translated text in Spanish; Castilian']\n",
      "Index 4311: NaN in columns ['Translated text in Spanish; Castilian']\n",
      "Index 4312: NaN in columns ['Translated text in Spanish; Castilian']\n",
      "Index 4315: NaN in columns ['Translated text in Spanish; Castilian']\n",
      "Index 4324: NaN in columns ['Translated text in Spanish; Castilian']\n",
      "Index 4325: NaN in columns ['Translated text in Spanish; Castilian']\n",
      "Index 4327: NaN in columns ['Translated text in Spanish; Castilian']\n",
      "Index 4335: NaN in columns ['Translated text in Spanish; Castilian']\n",
      "Index 4339: NaN in columns ['Translated text in Spanish; Castilian']\n",
      "Index 4341: NaN in columns ['Translated text in Spanish; Castilian']\n",
      "Index 4342: NaN in columns ['Translated text in Spanish; Castilian']\n",
      "Index 4345: NaN in columns ['Translated text in Spanish; Castilian']\n",
      "Index 4346: NaN in columns ['Translated text in Spanish; Castilian']\n",
      "Index 4372: NaN in columns ['Translated text in Spanish; Castilian']\n",
      "Index 4383: NaN in columns ['Translated text in Spanish; Castilian']\n",
      "Index 4384: NaN in columns ['Translated text in Spanish; Castilian']\n",
      "Index 4395: NaN in columns ['Translated text in Spanish; Castilian']\n",
      "Index 4397: NaN in columns ['Translated text in Spanish; Castilian']\n",
      "Index 4402: NaN in columns ['Translated text in Spanish; Castilian']\n",
      "Index 4403: NaN in columns ['Translated text in Spanish; Castilian']\n",
      "Index 4406: NaN in columns ['Translated text in Spanish; Castilian']\n",
      "Index 4409: NaN in columns ['Translated text in Spanish; Castilian']\n",
      "Index 4419: NaN in columns ['Translated text in Spanish; Castilian']\n",
      "Index 4421: NaN in columns ['Translated text in Spanish; Castilian']\n",
      "Index 4426: NaN in columns ['Translated text in Spanish; Castilian']\n",
      "Index 4427: NaN in columns ['Translated text in Spanish; Castilian']\n",
      "Index 4429: NaN in columns ['Translated text in Spanish; Castilian']\n",
      "Index 4433: NaN in columns ['Translated text in Spanish; Castilian']\n",
      "Index 4434: NaN in columns ['Translated text in Spanish; Castilian']\n",
      "Index 4436: NaN in columns ['Translated text in Spanish; Castilian']\n",
      "Index 4443: NaN in columns ['Translated text in Spanish; Castilian']\n",
      "Index 4447: NaN in columns ['Translated text in Spanish; Castilian']\n",
      "Index 4451: NaN in columns ['Translated text in Spanish; Castilian']\n",
      "Index 4459: NaN in columns ['Translated text in Spanish; Castilian']\n",
      "Index 4461: NaN in columns ['Translated text in Spanish; Castilian']\n",
      "Index 4463: NaN in columns ['Translated text in Spanish; Castilian']\n",
      "Index 4464: NaN in columns ['Translated text in Spanish; Castilian']\n",
      "Index 4470: NaN in columns ['Translated text in Spanish; Castilian']\n",
      "Index 4472: NaN in columns ['Translated text in Spanish; Castilian']\n",
      "Index 4479: NaN in columns ['Translated text in Spanish; Castilian']\n",
      "Index 4480: NaN in columns ['Translated text in Spanish; Castilian']\n",
      "Index 4486: NaN in columns ['Translated text in Spanish; Castilian']\n",
      "Index 4492: NaN in columns ['Translated text in Spanish; Castilian']\n",
      "Index 4493: NaN in columns ['Translated text in Spanish; Castilian']\n",
      "Index 4494: NaN in columns ['Translated text in Spanish; Castilian']\n",
      "Index 4495: NaN in columns ['Translated text in Spanish; Castilian']\n",
      "Index 4498: NaN in columns ['Translated text in Spanish; Castilian']\n",
      "Index 4500: NaN in columns ['Translated text in Spanish; Castilian']\n",
      "Index 4501: NaN in columns ['Translated text in Spanish; Castilian']\n",
      "Index 4503: NaN in columns ['Translated text in Spanish; Castilian']\n",
      "Index 4510: NaN in columns ['Translated text in Spanish; Castilian']\n",
      "Index 4513: NaN in columns ['Translated text in Spanish; Castilian']\n",
      "Index 4515: NaN in columns ['Translated text in Spanish; Castilian']\n",
      "Index 4516: NaN in columns ['Translated text in Spanish; Castilian']\n",
      "Index 4517: NaN in columns ['Translated text in Spanish; Castilian']\n",
      "Index 4519: NaN in columns ['Translated text in Spanish; Castilian']\n",
      "Index 4520: NaN in columns ['Translated text in Spanish; Castilian']\n",
      "Index 4525: NaN in columns ['Translated text in Spanish; Castilian']\n",
      "Index 4531: NaN in columns ['Translated text in Spanish; Castilian']\n",
      "Index 4532: NaN in columns ['Translated text in Spanish; Castilian']\n",
      "Index 4533: NaN in columns ['Translated text in Spanish; Castilian']\n",
      "Index 4539: NaN in columns ['Translated text in Spanish; Castilian']\n",
      "Index 4540: NaN in columns ['Translated text in Spanish; Castilian']\n",
      "Index 4542: NaN in columns ['Translated text in Spanish; Castilian']\n",
      "Index 4543: NaN in columns ['Translated text in Spanish; Castilian']\n",
      "Index 4544: NaN in columns ['Translated text in Spanish; Castilian']\n",
      "Index 4553: NaN in columns ['Translated text in Spanish; Castilian']\n",
      "Index 4554: NaN in columns ['Translated text in Spanish; Castilian']\n",
      "Index 4555: NaN in columns ['Translated text in Spanish; Castilian']\n",
      "Index 4556: NaN in columns ['Translated text in Spanish; Castilian']\n",
      "Index 4561: NaN in columns ['Translated text in Spanish; Castilian']\n",
      "Index 4562: NaN in columns ['Translated text in Spanish; Castilian']\n",
      "Index 4566: NaN in columns ['Translated text in Spanish; Castilian']\n",
      "Index 4570: NaN in columns ['Translated text in Spanish; Castilian']\n",
      "Index 4574: NaN in columns ['Translated text in Spanish; Castilian']\n",
      "Index 4580: NaN in columns ['Translated text in Spanish; Castilian']\n",
      "Index 4581: NaN in columns ['Translated text in Spanish; Castilian']\n",
      "Index 4584: NaN in columns ['Translated text in Spanish; Castilian']\n",
      "Index 4586: NaN in columns ['Translated text in Spanish; Castilian']\n",
      "Index 4587: NaN in columns ['Translated text in Spanish; Castilian']\n",
      "Index 4588: NaN in columns ['Translated text in Spanish; Castilian']\n",
      "Index 4589: NaN in columns ['Translated text in Spanish; Castilian']\n",
      "Index 4592: NaN in columns ['Translated text in Spanish; Castilian']\n",
      "Index 4593: NaN in columns ['Translated text in Spanish; Castilian']\n",
      "Index 4598: NaN in columns ['Translated text in Spanish; Castilian']\n",
      "Index 4601: NaN in columns ['Translated text in Spanish; Castilian']\n",
      "Index 4607: NaN in columns ['Translated text in Spanish; Castilian']\n",
      "Index 4612: NaN in columns ['Translated text in Spanish; Castilian']\n",
      "Index 4618: NaN in columns ['Translated text in Spanish; Castilian']\n",
      "Index 4619: NaN in columns ['Translated text in Spanish; Castilian']\n",
      "Index 4620: NaN in columns ['Translated text in Spanish; Castilian']\n",
      "Index 4624: NaN in columns ['Translated text in Spanish; Castilian']\n",
      "Index 4627: NaN in columns ['Translated text in Spanish; Castilian']\n",
      "Index 4628: NaN in columns ['Translated text in Spanish; Castilian']\n",
      "Index 4634: NaN in columns ['Translated text in Spanish; Castilian']\n",
      "Index 4638: NaN in columns ['Translated text in Spanish; Castilian']\n",
      "Index 4640: NaN in columns ['Translated text in Spanish; Castilian']\n",
      "Index 4641: NaN in columns ['Translated text in Spanish; Castilian']\n",
      "Index 4646: NaN in columns ['Translated text in Spanish; Castilian']\n",
      "Index 4648: NaN in columns ['Translated text in Spanish; Castilian']\n",
      "Index 4661: NaN in columns ['Translated text in Spanish; Castilian']\n",
      "Index 4662: NaN in columns ['Translated text in Spanish; Castilian']\n",
      "Index 4666: NaN in columns ['Translated text in Spanish; Castilian']\n",
      "Index 4673: NaN in columns ['Translated text in Spanish; Castilian']\n",
      "Index 4677: NaN in columns ['Translated text in Spanish; Castilian']\n",
      "Index 4682: NaN in columns ['Translated text in Spanish; Castilian']\n",
      "Index 4694: NaN in columns ['Translated text in Spanish; Castilian']\n",
      "Index 4695: NaN in columns ['Translated text in Spanish; Castilian']\n",
      "Index 4701: NaN in columns ['Translated text in Spanish; Castilian']\n",
      "Index 4702: NaN in columns ['Translated text in Spanish; Castilian']\n",
      "Index 4705: NaN in columns ['Translated text in Spanish; Castilian']\n",
      "Index 4711: NaN in columns ['Translated text in Spanish; Castilian']\n",
      "Index 4712: NaN in columns ['Translated text in Spanish; Castilian']\n",
      "Index 4717: NaN in columns ['Translated text in Spanish; Castilian']\n",
      "Index 4718: NaN in columns ['Translated text in Spanish; Castilian']\n",
      "Index 4719: NaN in columns ['Translated text in Spanish; Castilian']\n",
      "Index 4720: NaN in columns ['Translated text in Spanish; Castilian']\n",
      "Index 4721: NaN in columns ['Translated text in Spanish; Castilian']\n",
      "Index 4722: NaN in columns ['Translated text in Spanish; Castilian']\n",
      "Index 4723: NaN in columns ['Translated text in Spanish; Castilian']\n",
      "Index 4728: NaN in columns ['Translated text in Spanish; Castilian']\n",
      "Index 4730: NaN in columns ['Translated text in Spanish; Castilian']\n",
      "Index 4734: NaN in columns ['Translated text in Spanish; Castilian']\n",
      "Index 4738: NaN in columns ['Translated text in Spanish; Castilian']\n",
      "Index 4740: NaN in columns ['Translated text in Spanish; Castilian']\n",
      "Index 4744: NaN in columns ['Translated text in Spanish; Castilian']\n",
      "Index 4746: NaN in columns ['Translated text in Spanish; Castilian']\n",
      "Index 4758: NaN in columns ['Translated text in Spanish; Castilian']\n",
      "Index 4759: NaN in columns ['Translated text in Spanish; Castilian']\n",
      "Index 4764: NaN in columns ['Translated text in Spanish; Castilian']\n",
      "Index 4766: NaN in columns ['Translated text in Spanish; Castilian']\n",
      "Index 4771: NaN in columns ['Translated text in Spanish; Castilian']\n",
      "Index 4775: NaN in columns ['Translated text in Spanish; Castilian']\n",
      "Index 4777: NaN in columns ['Translated text in Spanish; Castilian']\n",
      "Index 4778: NaN in columns ['Translated text in Spanish; Castilian']\n",
      "Index 4779: NaN in columns ['Translated text in Spanish; Castilian']\n",
      "Index 4780: NaN in columns ['Translated text in Spanish; Castilian']\n",
      "Index 4781: NaN in columns ['Translated text in Spanish; Castilian']\n",
      "Index 4782: NaN in columns ['Translated text in Spanish; Castilian']\n",
      "Index 4786: NaN in columns ['Translated text in Spanish; Castilian']\n",
      "Index 4787: NaN in columns ['Translated text in Spanish; Castilian']\n",
      "Index 4789: NaN in columns ['Translated text in Spanish; Castilian']\n",
      "Index 4790: NaN in columns ['Translated text in Spanish; Castilian']\n",
      "Index 4794: NaN in columns ['Translated text in Spanish; Castilian']\n",
      "Index 4797: NaN in columns ['Translated text in Spanish; Castilian']\n",
      "Index 4800: NaN in columns ['Translated text in Spanish; Castilian']\n",
      "Index 4801: NaN in columns ['Translated text in Spanish; Castilian']\n",
      "Index 4802: NaN in columns ['Translated text in Spanish; Castilian']\n",
      "Index 4804: NaN in columns ['Translated text in Spanish; Castilian']\n",
      "Index 4805: NaN in columns ['Translated text in Spanish; Castilian']\n",
      "Index 4807: NaN in columns ['Translated text in Spanish; Castilian']\n",
      "Index 4810: NaN in columns ['Translated text in Spanish; Castilian']\n",
      "Index 4819: NaN in columns ['Translated text in Spanish; Castilian']\n",
      "Index 4824: NaN in columns ['Translated text in Spanish; Castilian']\n",
      "Index 4826: NaN in columns ['Translated text in Spanish; Castilian']\n",
      "Index 4827: NaN in columns ['Translated text in Spanish; Castilian']\n",
      "Index 4836: NaN in columns ['Translated text in Spanish; Castilian']\n",
      "Index 4838: NaN in columns ['Translated text in Spanish; Castilian']\n",
      "Index 4846: NaN in columns ['Translated text in Spanish; Castilian']\n",
      "Index 4847: NaN in columns ['Translated text in Spanish; Castilian']\n",
      "Index 4851: NaN in columns ['Translated text in Spanish; Castilian']\n",
      "Index 4852: NaN in columns ['Translated text in Spanish; Castilian']\n",
      "Index 4855: NaN in columns ['Translated text in Spanish; Castilian']\n",
      "Index 4856: NaN in columns ['Translated text in Spanish; Castilian']\n",
      "Index 4864: NaN in columns ['Translated text in Spanish; Castilian']\n",
      "Index 4879: NaN in columns ['Translated text in Spanish; Castilian']\n",
      "Index 4883: NaN in columns ['Translated text in Spanish; Castilian']\n",
      "Index 4887: NaN in columns ['Translated text in Spanish; Castilian']\n",
      "Index 4888: NaN in columns ['Translated text in Spanish; Castilian']\n",
      "Index 4891: NaN in columns ['Translated text in Spanish; Castilian']\n",
      "Index 4892: NaN in columns ['Translated text in Spanish; Castilian']\n",
      "Index 4893: NaN in columns ['Translated text in Spanish; Castilian']\n",
      "Index 4904: NaN in columns ['Translated text in Spanish; Castilian']\n",
      "Index 4910: NaN in columns ['Translated text in Spanish; Castilian']\n",
      "Index 4913: NaN in columns ['Translated text in Spanish; Castilian']\n",
      "Index 4916: NaN in columns ['Translated text in Spanish; Castilian']\n",
      "Index 4920: NaN in columns ['Translated text in Spanish; Castilian']\n",
      "Index 4921: NaN in columns ['Translated text in Spanish; Castilian']\n",
      "Index 4922: NaN in columns ['Translated text in Spanish; Castilian']\n",
      "Index 4925: NaN in columns ['Translated text in Spanish; Castilian']\n",
      "Index 4926: NaN in columns ['Translated text in Spanish; Castilian']\n",
      "Index 4928: NaN in columns ['Translated text in Spanish; Castilian']\n",
      "Index 4933: NaN in columns ['Translated text in Spanish; Castilian']\n",
      "Index 4934: NaN in columns ['Translated text in Spanish; Castilian']\n",
      "Index 4936: NaN in columns ['Translated text in Spanish; Castilian']\n",
      "Index 4938: NaN in columns ['Translated text in Spanish; Castilian']\n",
      "Index 4939: NaN in columns ['Translated text in Spanish; Castilian']\n",
      "Index 4941: NaN in columns ['Translated text in Spanish; Castilian']\n",
      "Index 4945: NaN in columns ['Translated text in Spanish; Castilian']\n",
      "Index 4947: NaN in columns ['Translated text in Spanish; Castilian']\n",
      "Index 4956: NaN in columns ['Translated text in Spanish; Castilian']\n",
      "Index 4961: NaN in columns ['Translated text in Spanish; Castilian']\n",
      "Index 4967: NaN in columns ['Translated text in Spanish; Castilian']\n",
      "Index 4969: NaN in columns ['Translated text in Spanish; Castilian']\n",
      "Index 4975: NaN in columns ['Translated text in Spanish; Castilian']\n",
      "Index 4976: NaN in columns ['Translated text in Spanish; Castilian']\n",
      "Index 4977: NaN in columns ['Translated text in Spanish; Castilian']\n",
      "Index 4982: NaN in columns ['Translated text in Spanish; Castilian']\n",
      "Index 4984: NaN in columns ['Translated text in Spanish; Castilian']\n",
      "Index 4987: NaN in columns ['Translated text in Spanish; Castilian']\n",
      "Index 4990: NaN in columns ['Translated text in Spanish; Castilian']\n",
      "Index 4993: NaN in columns ['Translated text in Spanish; Castilian']\n",
      "Index 5001: NaN in columns ['Translated text in Spanish; Castilian']\n",
      "Index 5004: NaN in columns ['Translated text in Spanish; Castilian']\n",
      "Index 5007: NaN in columns ['Translated text in Spanish; Castilian']\n",
      "Index 5014: NaN in columns ['Translated text in Spanish; Castilian']\n",
      "Index 5015: NaN in columns ['Translated text in Spanish; Castilian']\n",
      "Index 5033: NaN in columns ['Translated text in Spanish; Castilian']\n",
      "Index 5034: NaN in columns ['Translated text in Spanish; Castilian']\n",
      "Index 5035: NaN in columns ['Translated text in Spanish; Castilian']\n",
      "Index 5037: NaN in columns ['Translated text in Spanish; Castilian']\n",
      "Index 5038: NaN in columns ['Translated text in Spanish; Castilian']\n",
      "Index 5041: NaN in columns ['Translated text in Spanish; Castilian']\n",
      "Index 5042: NaN in columns ['Translated text in Spanish; Castilian']\n",
      "Index 5048: NaN in columns ['Translated text in Spanish; Castilian']\n",
      "Index 5050: NaN in columns ['Translated text in Spanish; Castilian']\n",
      "Index 5051: NaN in columns ['Translated text in Spanish; Castilian']\n",
      "Index 5052: NaN in columns ['Translated text in Spanish; Castilian']\n",
      "Index 5055: NaN in columns ['Translated text in Spanish; Castilian']\n",
      "Index 5057: NaN in columns ['Translated text in Spanish; Castilian']\n",
      "Index 5059: NaN in columns ['Translated text in Spanish; Castilian']\n",
      "Index 5067: NaN in columns ['Translated text in Spanish; Castilian']\n",
      "Index 5068: NaN in columns ['Translated text in Spanish; Castilian']\n",
      "Index 5081: NaN in columns ['Translated text in Spanish; Castilian']\n",
      "Index 5084: NaN in columns ['Translated text in Spanish; Castilian']\n",
      "Index 5085: NaN in columns ['Translated text in Spanish; Castilian']\n",
      "Index 5086: NaN in columns ['Translated text in Spanish; Castilian']\n",
      "Index 5087: NaN in columns ['Translated text in Spanish; Castilian']\n",
      "Index 5091: NaN in columns ['Translated text in Spanish; Castilian']\n",
      "Index 5093: NaN in columns ['Translated text in Spanish; Castilian']\n",
      "Index 5096: NaN in columns ['Translated text in Spanish; Castilian']\n",
      "Index 5097: NaN in columns ['Translated text in Spanish; Castilian']\n",
      "Index 5099: NaN in columns ['Translated text in Spanish; Castilian']\n",
      "Index 5101: NaN in columns ['Translated text in Spanish; Castilian']\n",
      "Index 5108: NaN in columns ['Translated text in Spanish; Castilian']\n",
      "Index 5117: NaN in columns ['Translated text in Spanish; Castilian']\n",
      "Index 5119: NaN in columns ['Translated text in Spanish; Castilian']\n",
      "Index 5120: NaN in columns ['Translated text in Spanish; Castilian']\n",
      "Index 5126: NaN in columns ['Translated text in Spanish; Castilian']\n",
      "Index 5134: NaN in columns ['Translated text in Spanish; Castilian']\n",
      "Index 5135: NaN in columns ['Translated text in Spanish; Castilian']\n",
      "Index 5136: NaN in columns ['Translated text in Spanish; Castilian']\n",
      "Index 5137: NaN in columns ['Translated text in Spanish; Castilian']\n",
      "Index 5139: NaN in columns ['Translated text in Spanish; Castilian']\n",
      "Index 5140: NaN in columns ['Translated text in Spanish; Castilian']\n",
      "Index 5141: NaN in columns ['Translated text in Spanish; Castilian']\n",
      "Index 5148: NaN in columns ['Translated text in Spanish; Castilian']\n",
      "Index 5149: NaN in columns ['Translated text in Spanish; Castilian']\n",
      "Index 5151: NaN in columns ['Translated text in Spanish; Castilian']\n",
      "Index 5162: NaN in columns ['Translated text in Spanish; Castilian']\n",
      "Index 5169: NaN in columns ['Translated text in Spanish; Castilian']\n",
      "Index 5173: NaN in columns ['Translated text in Spanish; Castilian']\n",
      "Index 5174: NaN in columns ['Translated text in Spanish; Castilian']\n",
      "Index 5176: NaN in columns ['Translated text in Spanish; Castilian']\n",
      "Index 5178: NaN in columns ['Translated text in Spanish; Castilian']\n",
      "Index 5180: NaN in columns ['Translated text in Spanish; Castilian']\n",
      "Index 5181: NaN in columns ['Translated text in Spanish; Castilian']\n",
      "Index 5189: NaN in columns ['Translated text in Spanish; Castilian']\n",
      "Index 5194: NaN in columns ['Translated text in Spanish; Castilian']\n",
      "Index 5197: NaN in columns ['Translated text in Spanish; Castilian']\n",
      "Index 5209: NaN in columns ['Translated text in Spanish; Castilian']\n",
      "Index 5215: NaN in columns ['Translated text in Spanish; Castilian']\n",
      "Index 5223: NaN in columns ['Translated text in Spanish; Castilian']\n",
      "Index 5227: NaN in columns ['Translated text in Spanish; Castilian']\n",
      "Index 5231: NaN in columns ['Translated text in Spanish; Castilian']\n",
      "Index 5232: NaN in columns ['Translated text in Spanish; Castilian']\n",
      "Index 5233: NaN in columns ['Translated text in Spanish; Castilian']\n",
      "Index 5236: NaN in columns ['Translated text in Spanish; Castilian']\n",
      "Index 5238: NaN in columns ['Translated text in Spanish; Castilian']\n",
      "Index 5240: NaN in columns ['Translated text in Spanish; Castilian']\n",
      "Index 5256: NaN in columns ['Translated text in Spanish; Castilian']\n",
      "Index 5282: NaN in columns ['Translated text in Spanish; Castilian']\n",
      "Index 5315: NaN in columns ['Translated text in Spanish; Castilian']\n",
      "Index 5346: NaN in columns ['Translated text in Spanish; Castilian']\n",
      "Index 5354: NaN in columns ['Translated text in Spanish; Castilian']\n",
      "Index 5355: NaN in columns ['Translated text in Spanish; Castilian']\n",
      "Index 5361: NaN in columns ['Translated text in Spanish; Castilian']\n",
      "Index 5400: NaN in columns ['Translated text in Spanish; Castilian']\n",
      "Index 5414: NaN in columns ['Translated text in Spanish; Castilian']\n",
      "Index 5437: NaN in columns ['Translated text in Spanish; Castilian']\n",
      "Index 5454: NaN in columns ['Translated text in Spanish; Castilian']\n",
      "Index 5470: NaN in columns ['Translated text in Spanish; Castilian']\n",
      "Index 5471: NaN in columns ['Translated text in Spanish; Castilian']\n",
      "Index 5474: NaN in columns ['Translated text in Spanish; Castilian']\n",
      "Index 5478: NaN in columns ['Translated text in Spanish; Castilian']\n",
      "Index 5482: NaN in columns ['Translated text in Spanish; Castilian']\n",
      "Index 5500: NaN in columns ['Translated text in Spanish; Castilian']\n",
      "Index 5553: NaN in columns ['Translated text in Spanish; Castilian']\n",
      "Index 5579: NaN in columns ['Translated text in Spanish; Castilian']\n",
      "Index 5581: NaN in columns ['Translated text in Spanish; Castilian']\n",
      "Index 5588: NaN in columns ['Translated text in Spanish; Castilian']\n",
      "Index 5589: NaN in columns ['Translated text in Spanish; Castilian']\n",
      "Index 5601: NaN in columns ['Translated text in Spanish; Castilian']\n",
      "Index 5613: NaN in columns ['Translated text in Spanish; Castilian']\n",
      "Index 5614: NaN in columns ['Translated text in Spanish; Castilian']\n",
      "Index 5618: NaN in columns ['Translated text in Spanish; Castilian']\n",
      "Index 5740: NaN in columns ['Translated text in Spanish; Castilian']\n",
      "Index 5797: NaN in columns ['Translated text in Spanish; Castilian']\n",
      "Index 5802: NaN in columns ['Translated text in Spanish; Castilian']\n",
      "Index 6027: NaN in columns ['Translated text in Spanish; Castilian']\n",
      "Index 6028: NaN in columns ['Translated text in Spanish; Castilian']\n",
      "Index 6079: NaN in columns ['Translated text in Spanish; Castilian']\n",
      "Index 6186: NaN in columns ['Translated text in Spanish; Castilian']\n",
      "Index 6333: NaN in columns ['Translated text in Spanish; Castilian']\n",
      "Index 6338: NaN in columns ['Translated text in Spanish; Castilian']\n",
      "Index 6391: NaN in columns ['Translated text in Spanish; Castilian']\n",
      "Index 6403: NaN in columns ['Translated text in Spanish; Castilian']\n",
      "Index 6450: NaN in columns ['Translated text in Spanish; Castilian']\n",
      "Index 6507: NaN in columns ['Translated text in Spanish; Castilian']\n",
      "Index 6535: NaN in columns ['Translated text in Spanish; Castilian']\n",
      "Index 6558: NaN in columns ['Translated text in Spanish; Castilian']\n",
      "Index 6581: NaN in columns ['Translated text in Spanish; Castilian']\n",
      "Index 6596: NaN in columns ['Translated text in Spanish; Castilian']\n",
      "Index 6631: NaN in columns ['Translated text in Spanish; Castilian']\n",
      "Index 6664: NaN in columns ['Translated text in Spanish; Castilian']\n",
      "Index 6666: NaN in columns ['Translated text in Spanish; Castilian']\n",
      "Index 6684: NaN in columns ['Translated text in Spanish; Castilian']\n",
      "Index 6687: NaN in columns ['Translated text in Spanish; Castilian']\n",
      "Index 6691: NaN in columns ['Translated text in Spanish; Castilian']\n",
      "Index 6747: NaN in columns ['Translated text in Spanish; Castilian']\n",
      "Index 6797: NaN in columns ['Translated text in Spanish; Castilian']\n",
      "Index 6930: NaN in columns ['Translated text in Spanish; Castilian']\n",
      "Index 6940: NaN in columns ['Translated text in Spanish; Castilian']\n",
      "Index 6965: NaN in columns ['Translated text in Spanish; Castilian']\n",
      "Index 7074: NaN in columns ['Translated text in Spanish; Castilian']\n",
      "Index 7108: NaN in columns ['Translated text in Spanish; Castilian']\n"
     ]
    }
   ],
   "source": [
    "nan_rows = ec35_df[ec35_df.isna().any(axis=1)]\n",
    "\n",
    "if not nan_rows.empty:\n",
    "    print(\"Rows with NaN values found:\")\n",
    "    for index, row in nan_rows.iterrows():\n",
    "        nan_columns = row.index[row.isna()].tolist()  # Get columns with NaN\n",
    "        print(f\"Index {index}: NaN in columns {nan_columns}\")\n",
    "else:\n",
    "    print(\"No NaN values found in the DataFrame.\")"
   ]
  },
  {
   "cell_type": "code",
   "execution_count": 145,
   "metadata": {},
   "outputs": [],
   "source": [
    "### NaNs only in the Spanish column"
   ]
  },
  {
   "cell_type": "code",
   "execution_count": 146,
   "metadata": {},
   "outputs": [],
   "source": [
    "#### Emotions"
   ]
  },
  {
   "cell_type": "code",
   "execution_count": 147,
   "metadata": {},
   "outputs": [],
   "source": [
    "emotion_map = {\n",
    "    \"AN\": \"Anger\",\n",
    "    \"DI\": \"Disgust\",\n",
    "    \"FE\": \"Fear\",\n",
    "    \"SA\": \"Sadness\",\n",
    "    \"SU\": \"Surprise\",\n",
    "    \"JO\": \"Joy\"\n",
    "}"
   ]
  },
  {
   "cell_type": "code",
   "execution_count": 148,
   "metadata": {},
   "outputs": [],
   "source": [
    "def get_emotion(row):\n",
    "    \n",
    "    mapped_emotions = []\n",
    "    \n",
    "    if row.raw_emotions == \"Neutral\":\n",
    "        return \"[Neutral]\"\n",
    "    \n",
    "    else:\n",
    "        for pair in row.raw_emotions.split(\"-\"):\n",
    "            code = pair[:2]  # Extract emotion code\n",
    "            value_str = pair[2:]  # Extract value as string\n",
    "\n",
    "            if code in emotion_map and value_str.isdigit():  # Ensure value is numeric\n",
    "                value = int(value_str)\n",
    "                if value > 0:\n",
    "                    mapped_emotions.append(emotion_map[code])\n",
    "    \n",
    "    return mapped_emotions"
   ]
  },
  {
   "cell_type": "code",
   "execution_count": 149,
   "metadata": {},
   "outputs": [],
   "source": [
    "ec35_df[\"emotions\"] = ec35_df.apply(lambda row: get_emotion(row), axis=1)"
   ]
  },
  {
   "cell_type": "code",
   "execution_count": 152,
   "metadata": {},
   "outputs": [
    {
     "data": {
      "text/plain": [
       "emotions\n",
       "[Joy]                               1135\n",
       "[Anger]                             1082\n",
       "[Sadness]                            754\n",
       "[Surprise]                           517\n",
       "[Fear, Surprise]                     460\n",
       "[Fear]                               441\n",
       "[Neutral]                            439\n",
       "[Fear, Sadness]                      307\n",
       "[Anger, Sadness]                     276\n",
       "[Anger, Surprise]                    242\n",
       "[Anger, Fear]                        242\n",
       "[Surprise, Joy]                      236\n",
       "[Anger, Disgust]                     153\n",
       "[Sadness, Surprise]                  150\n",
       "[Anger, Joy]                         132\n",
       "[Sadness, Joy]                       108\n",
       "[Anger, Fear, Surprise]               98\n",
       "[Anger, Fear, Sadness]                59\n",
       "[Fear, Sadness, Surprise]             46\n",
       "[Disgust, Surprise]                   31\n",
       "[Fear, Joy]                           30\n",
       "[Disgust, Sadness]                    28\n",
       "[Disgust]                             27\n",
       "[Anger, Disgust, Sadness]             24\n",
       "[Anger, Sadness, Surprise]            20\n",
       "[Anger, Disgust, Surprise]            17\n",
       "[Anger, Disgust, Fear]                14\n",
       "[Disgust, Joy]                        10\n",
       "[Fear, Surprise, Joy]                  9\n",
       "[Anger, Disgust, Joy]                  6\n",
       "[Anger, Surprise, Joy]                 5\n",
       "[Disgust, Fear]                        5\n",
       "[Fear, Sadness, Joy]                   4\n",
       "[Disgust, Fear, Sadness]               3\n",
       "[Anger, Fear, Joy]                     3\n",
       "[Disgust, Sadness, Joy]                3\n",
       "[Anger, Disgust, Fear, Sadness]        2\n",
       "[Sadness, Surprise, Joy]               2\n",
       "[Anger, Fear, Sadness, Surprise]       2\n",
       "[Anger, Fear, Sadness, Joy]            1\n",
       "[Anger, Sadness, Joy]                  1\n",
       "[Disgust, Surprise, Joy]               1\n",
       "[Disgust, Fear, Surprise]              1\n",
       "[Anger, Sadness, Surprise, Joy]        1\n",
       "[Disgust, Sadness, Surprise]           1\n",
       "[Anger, Disgust, Fear, Surprise]       1\n",
       "Name: count, dtype: int64"
      ]
     },
     "execution_count": 152,
     "metadata": {},
     "output_type": "execute_result"
    }
   ],
   "source": [
    "ec35_df.emotions.value_counts()"
   ]
  },
  {
   "cell_type": "code",
   "execution_count": 153,
   "metadata": {},
   "outputs": [],
   "source": [
    "ec35_df = ec35_df[ec35_df[\"emotions\"].apply(lambda x: not (isinstance(x, list) and len(x) == 0))].reset_index(drop=True)"
   ]
  },
  {
   "cell_type": "code",
   "execution_count": 154,
   "metadata": {},
   "outputs": [],
   "source": [
    "# 3 samples have no annotation, back to 7129 samples."
   ]
  },
  {
   "cell_type": "code",
   "execution_count": 155,
   "metadata": {},
   "outputs": [
    {
     "data": {
      "text/plain": [
       "emotions\n",
       "[Joy]                               1135\n",
       "[Anger]                             1082\n",
       "[Sadness]                            754\n",
       "[Surprise]                           517\n",
       "[Fear, Surprise]                     460\n",
       "[Fear]                               441\n",
       "[Neutral]                            439\n",
       "[Fear, Sadness]                      307\n",
       "[Anger, Sadness]                     276\n",
       "[Anger, Surprise]                    242\n",
       "[Anger, Fear]                        242\n",
       "[Surprise, Joy]                      236\n",
       "[Anger, Disgust]                     153\n",
       "[Sadness, Surprise]                  150\n",
       "[Anger, Joy]                         132\n",
       "[Sadness, Joy]                       108\n",
       "[Anger, Fear, Surprise]               98\n",
       "[Anger, Fear, Sadness]                59\n",
       "[Fear, Sadness, Surprise]             46\n",
       "[Disgust, Surprise]                   31\n",
       "[Fear, Joy]                           30\n",
       "[Disgust, Sadness]                    28\n",
       "[Disgust]                             27\n",
       "[Anger, Disgust, Sadness]             24\n",
       "[Anger, Sadness, Surprise]            20\n",
       "[Anger, Disgust, Surprise]            17\n",
       "[Anger, Disgust, Fear]                14\n",
       "[Disgust, Joy]                        10\n",
       "[Fear, Surprise, Joy]                  9\n",
       "[Anger, Disgust, Joy]                  6\n",
       "[Anger, Surprise, Joy]                 5\n",
       "[Disgust, Fear]                        5\n",
       "[Fear, Sadness, Joy]                   4\n",
       "[Disgust, Fear, Sadness]               3\n",
       "[Anger, Fear, Joy]                     3\n",
       "[Disgust, Sadness, Joy]                3\n",
       "[Anger, Disgust, Fear, Sadness]        2\n",
       "[Sadness, Surprise, Joy]               2\n",
       "[Anger, Fear, Sadness, Surprise]       2\n",
       "[Anger, Fear, Sadness, Joy]            1\n",
       "[Anger, Sadness, Joy]                  1\n",
       "[Disgust, Surprise, Joy]               1\n",
       "[Disgust, Fear, Surprise]              1\n",
       "[Anger, Sadness, Surprise, Joy]        1\n",
       "[Disgust, Sadness, Surprise]           1\n",
       "[Anger, Disgust, Fear, Surprise]       1\n",
       "Name: count, dtype: int64"
      ]
     },
     "execution_count": 155,
     "metadata": {},
     "output_type": "execute_result"
    }
   ],
   "source": [
    "ec35_df.emotions.value_counts()"
   ]
  },
  {
   "cell_type": "code",
   "execution_count": 156,
   "metadata": {},
   "outputs": [],
   "source": [
    "#### Split"
   ]
  },
  {
   "cell_type": "code",
   "execution_count": 157,
   "metadata": {},
   "outputs": [],
   "source": [
    "train_files = [\n",
    "    'QC copy - 1569 - 36 Fantasmas vol. 1 - Ghosted 8.xlsx',\n",
    " 'QC copy - 1642 - 23 American Vampire vol. 4 - AVC2 6.xlsx',\n",
    " 'QC copy - 1567 - 36 Fantasmas vol. 1 - Ghosted 6.xlsx',\n",
    " 'QC copy - 1570 - 36 Fantasmas vol. 1 - Ghosted 9.xlsx',\n",
    " 'QC copy - 1517 - 37 John Carpenter Historias para una noche de Halloween 3.xlsx',\n",
    " 'QC copy - 1571 - 36 Fantasmas vol. 1 - Ghosted 10.xlsx',\n",
    " 'QC copy - 1500 - 04 Nightwing 19 _Nightwing 95_.xlsx',\n",
    " 'QC copy - 1518 - 50 Las asombrosas aventuras de las Tortugas Ninja 5.xlsx',\n",
    " 'QC copy - 1499 - 58 ECC Co_mics 50 _The Jurassic League 4_.xlsx',\n",
    " 'QC copy - 1735 - 34 The Walking Dead vol 15 - 171_TWD.xlsx',\n",
    " 'QC copy - 1660 - 39 Dragon Age vol. 3 Engano - Deception 1.xlsx',\n",
    " 'QC copy - 1503 - 10 Crisis Oscura Flash - FLS 783.xlsx',\n",
    " 'QC copy - 1513 - 21 Blanco Humano 9.xlsx',\n",
    " 'QC copy - 1521 - 40 Amor eterno 2.xlsx',\n",
    " 'QC copy - 1662 - 39 Dragon Age vol. 3 Engano - Deception 3.xlsx',\n",
    " 'QC copy - 1559 - 36 Fantasmas vol. 1 - Ghosted 2.xlsx',\n",
    " 'QC copy - 1568 - 36 Fantasmas vol. 1 - Ghosted 7.xlsx',\n",
    " 'QC copy - 1644 - 23 American Vampire vol. 4 - AVC2 8.xlsx',\n",
    " 'QC copy - 1734 - 34 The Walking Dead vol 15 - 170_TWD.xlsx',\n",
    " 'QC copy - 1502 - 09 Mundos sin Liga de la Justicia Green Lantern 1 - DCVMM Lobo.xlsx',\n",
    " 'QC copy - 1661 - 39 Dragon Age vol. 3 Engano - Deception 2.xlsx',\n",
    " 'QC copy - 1508 - 48 Pequen_os Titanes 25.xlsx',\n",
    " 'QC copy - 1501 - 09 Mundos sin Liga de la Justicia Green Lantern 1 - DCWWJL GL 1.xlsx',\n",
    " 'QC copy - 1561 - 36 Fantasmas vol. 1 - Ghosted 4.xlsx',\n",
    " 'QC copy - 1737 - 34 The Walking Dead vol 15 - 173_TWD.xlsx',\n",
    " 'QC copy - 1562 - 36 Fantasmas vol. 1 - Ghosted 5.xlsx',\n",
    " 'QC copy - 1910 - 35 Ladro_n de ladrones 1 - ToT 11.xlsx',\n",
    " 'QC copy - 1560 - 36 Fantasmas vol. 1 - Ghosted 3.xlsx'\n",
    "]"
   ]
  },
  {
   "cell_type": "code",
   "execution_count": 158,
   "metadata": {},
   "outputs": [],
   "source": [
    "ec35_df['split'] = ec35_df['source_file'].apply(lambda x: 'TRAIN' if x in train_files else 'TEST')"
   ]
  },
  {
   "cell_type": "code",
   "execution_count": 159,
   "metadata": {},
   "outputs": [
    {
     "data": {
      "text/plain": [
       "split\n",
       "TRAIN    5803\n",
       "TEST     1326\n",
       "Name: count, dtype: int64"
      ]
     },
     "execution_count": 159,
     "metadata": {},
     "output_type": "execute_result"
    }
   ],
   "source": [
    "ec35_df.split.value_counts()"
   ]
  },
  {
   "cell_type": "code",
   "execution_count": 160,
   "metadata": {},
   "outputs": [],
   "source": [
    "### Title"
   ]
  },
  {
   "cell_type": "code",
   "execution_count": 161,
   "metadata": {},
   "outputs": [],
   "source": [
    "titles = [\n",
    "    \n",
    "    \"Jurassic League #4\",      \n",
    "    \"Nightwing #95\",    \n",
    "    \"Dark Crisis: Worlds Without a Justice League - Green Lantern #1\", \n",
    "    \"Dark Crisis: Worlds Without a Justice League - Green Lantern - Very Merry Multiverse\",\n",
    "    \"Dark Crisis: The Flash #783\",\n",
    "    \"Danger Street #1\",\n",
    "    \"Tiny Titans #25\",\n",
    "    \"Human Target #9\",\n",
    "    \"DC vs. Vampires #11\",\n",
    "    \"John Carpenter's Tales for a Halloweenight #3\",\n",
    "    \"The Amazing Adventures of the Ninja Turtles #5\",\n",
    "    \"Sonic The Hedgehog #44\",\n",
    "    \"Love Everlasting #2\",\n",
    "    \"Fantasmas vol. 1 - Ghosted #2\",\n",
    "    \"Fantasmas vol. 1 - Ghosted #3\",\n",
    "    \"Fantasmas vol. 1 - Ghosted #4\",\n",
    "    \"Fantasmas vol. 1 - Ghosted #5\",\n",
    "    \"Fantasmas vol. 1 - Ghosted #1\",\n",
    "    \"Fantasmas vol. 1 - Ghosted #6\",\n",
    "    \"Fantasmas vol. 1 - Ghosted #7\",\n",
    "    \"Fantasmas vol. 1 - Ghosted #8\",\n",
    "    \"Fantasmas vol. 1 - Ghosted #9\",\n",
    "    \"Fantasmas vol. 1 - Ghosted #10\",\n",
    "    \"American Vampire vol. 4 - #6\",\n",
    "    \"American Vampire vol. 4 - #7\",\n",
    "    \"American Vampire vol. 4 - #8\",\n",
    "    \"Dragon Age vol. 3 Engano - Deception #1\",\n",
    "    \"Dragon Age vol. 3 Engano - Deception #2\",\n",
    "    \"Dragon Age vol. 3 Engano - Deception #3\",\n",
    "    \"The Walking Dead vol 15 - #169\",\n",
    "    \"The Walking Dead vol 15 - #170\",\n",
    "    \"The Walking Dead vol 15 - #171\",\n",
    "    \"The Walking Dead vol 15 - #173\",\n",
    "    \"Thief Of Thieves 1 - #11\",\n",
    "    \"Stillwater #13\",\n",
    "\n",
    "]"
   ]
  },
  {
   "cell_type": "code",
   "execution_count": 162,
   "metadata": {},
   "outputs": [
    {
     "data": {
      "text/plain": [
       "35"
      ]
     },
     "execution_count": 162,
     "metadata": {},
     "output_type": "execute_result"
    }
   ],
   "source": [
    "len(titles)"
   ]
  },
  {
   "cell_type": "code",
   "execution_count": 163,
   "metadata": {},
   "outputs": [
    {
     "data": {
      "text/plain": [
       "35"
      ]
     },
     "execution_count": 163,
     "metadata": {},
     "output_type": "execute_result"
    }
   ],
   "source": [
    "len(ec35_df.source_file.unique().tolist())"
   ]
  },
  {
   "cell_type": "code",
   "execution_count": 164,
   "metadata": {},
   "outputs": [],
   "source": [
    "mapping = dict(zip(ec35_df.source_file.unique().tolist(), titles))"
   ]
  },
  {
   "cell_type": "code",
   "execution_count": 165,
   "metadata": {},
   "outputs": [],
   "source": [
    "ec35_df['comicbook_title'] = ec35_df['source_file'].map(mapping)"
   ]
  },
  {
   "cell_type": "code",
   "execution_count": 166,
   "metadata": {},
   "outputs": [
    {
     "data": {
      "text/plain": [
       "(7129, 19)"
      ]
     },
     "execution_count": 166,
     "metadata": {},
     "output_type": "execute_result"
    }
   ],
   "source": [
    "ec35_df.shape"
   ]
  },
  {
   "cell_type": "code",
   "execution_count": 167,
   "metadata": {},
   "outputs": [],
   "source": [
    "ec35_df.to_csv(DATA_FILES_DIR / \"emocomics35.csv\")"
   ]
  },
  {
   "cell_type": "code",
   "execution_count": null,
   "metadata": {},
   "outputs": [],
   "source": []
  }
 ],
 "metadata": {
  "kernelspec": {
   "display_name": "Python (multimodalER)",
   "language": "python",
   "name": "multimodalerk"
  },
  "language_info": {
   "codemirror_mode": {
    "name": "ipython",
    "version": 3
   },
   "file_extension": ".py",
   "mimetype": "text/x-python",
   "name": "python",
   "nbconvert_exporter": "python",
   "pygments_lexer": "ipython3",
   "version": "3.11.11"
  }
 },
 "nbformat": 4,
 "nbformat_minor": 2
}
